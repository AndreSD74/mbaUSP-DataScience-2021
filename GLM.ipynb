{
  "nbformat": 4,
  "nbformat_minor": 0,
  "metadata": {
    "colab": {
      "name": "GLM.ipynb",
      "provenance": [],
      "collapsed_sections": [],
      "authorship_tag": "ABX9TyOTkapLFMSuLhU9CnDAtsWc",
      "include_colab_link": true
    },
    "kernelspec": {
      "name": "python3",
      "display_name": "Python 3"
    },
    "language_info": {
      "name": "python"
    }
  },
  "cells": [
    {
      "cell_type": "markdown",
      "metadata": {
        "id": "view-in-github",
        "colab_type": "text"
      },
      "source": [
        "<a href=\"https://colab.research.google.com/github/AndreSD74/mbaUSP-DataScience-2021/blob/main/GLM.ipynb\" target=\"_parent\"><img src=\"https://colab.research.google.com/assets/colab-badge.svg\" alt=\"Open In Colab\"/></a>"
      ]
    },
    {
      "cell_type": "markdown",
      "metadata": {
        "id": "KcWmlW5J1Peb"
      },
      "source": [
        "### Montar o Google Drive"
      ]
    },
    {
      "cell_type": "code",
      "metadata": {
        "id": "fCeltmfA9Zoh",
        "colab": {
          "base_uri": "https://localhost:8080/"
        },
        "outputId": "8efafa24-13f1-4da6-e118-1a7d1482184d"
      },
      "source": [
        "from google.colab import drive\n",
        "drive.mount('/content/drive')"
      ],
      "execution_count": null,
      "outputs": [
        {
          "output_type": "stream",
          "name": "stdout",
          "text": [
            "Mounted at /content/drive\n"
          ]
        }
      ]
    },
    {
      "cell_type": "code",
      "metadata": {
        "id": "msOIOTIx9mW6",
        "colab": {
          "base_uri": "https://localhost:8080/"
        },
        "outputId": "a566e705-6766-48ce-95e0-67a596c211d0"
      },
      "source": [
        "import os\n",
        "os.chdir(\"/content/drive/My Drive/Colab Notebooks/mbaUSP-DataScience-2021\")  \n",
        "!ls"
      ],
      "execution_count": null,
      "outputs": [
        {
          "output_type": "stream",
          "name": "stdout",
          "text": [
            "data  GLM.ipynb  README.md  setup_colab.ipynb\n"
          ]
        }
      ]
    },
    {
      "cell_type": "markdown",
      "metadata": {
        "id": "-FGyCKmmASQ6"
      },
      "source": [
        "### Instalando Bibliotecas"
      ]
    },
    {
      "cell_type": "code",
      "metadata": {
        "id": "xsTlfVt891Qc",
        "colab": {
          "base_uri": "https://localhost:8080/"
        },
        "outputId": "49e04ae7-6120-4d6f-dbd6-6a57637ed8a5"
      },
      "source": [
        "!pip install pyreadr # para carregar arquivos .RData"
      ],
      "execution_count": null,
      "outputs": [
        {
          "output_type": "stream",
          "name": "stdout",
          "text": [
            "Collecting pyreadr\n",
            "  Downloading pyreadr-0.4.2-cp37-cp37m-manylinux_2_17_x86_64.manylinux2014_x86_64.whl (409 kB)\n",
            "\u001b[?25l\r\u001b[K     |▉                               | 10 kB 22.9 MB/s eta 0:00:01\r\u001b[K     |█▋                              | 20 kB 28.8 MB/s eta 0:00:01\r\u001b[K     |██▍                             | 30 kB 15.5 MB/s eta 0:00:01\r\u001b[K     |███▏                            | 40 kB 10.6 MB/s eta 0:00:01\r\u001b[K     |████                            | 51 kB 5.6 MB/s eta 0:00:01\r\u001b[K     |████▉                           | 61 kB 6.1 MB/s eta 0:00:01\r\u001b[K     |█████▋                          | 71 kB 5.2 MB/s eta 0:00:01\r\u001b[K     |██████▍                         | 81 kB 5.9 MB/s eta 0:00:01\r\u001b[K     |███████▏                        | 92 kB 5.0 MB/s eta 0:00:01\r\u001b[K     |████████                        | 102 kB 5.4 MB/s eta 0:00:01\r\u001b[K     |████████▉                       | 112 kB 5.4 MB/s eta 0:00:01\r\u001b[K     |█████████▋                      | 122 kB 5.4 MB/s eta 0:00:01\r\u001b[K     |██████████▍                     | 133 kB 5.4 MB/s eta 0:00:01\r\u001b[K     |███████████▏                    | 143 kB 5.4 MB/s eta 0:00:01\r\u001b[K     |████████████                    | 153 kB 5.4 MB/s eta 0:00:01\r\u001b[K     |████████████▉                   | 163 kB 5.4 MB/s eta 0:00:01\r\u001b[K     |█████████████▋                  | 174 kB 5.4 MB/s eta 0:00:01\r\u001b[K     |██████████████▍                 | 184 kB 5.4 MB/s eta 0:00:01\r\u001b[K     |███████████████▏                | 194 kB 5.4 MB/s eta 0:00:01\r\u001b[K     |████████████████                | 204 kB 5.4 MB/s eta 0:00:01\r\u001b[K     |████████████████▉               | 215 kB 5.4 MB/s eta 0:00:01\r\u001b[K     |█████████████████▋              | 225 kB 5.4 MB/s eta 0:00:01\r\u001b[K     |██████████████████▍             | 235 kB 5.4 MB/s eta 0:00:01\r\u001b[K     |███████████████████▏            | 245 kB 5.4 MB/s eta 0:00:01\r\u001b[K     |████████████████████            | 256 kB 5.4 MB/s eta 0:00:01\r\u001b[K     |████████████████████▉           | 266 kB 5.4 MB/s eta 0:00:01\r\u001b[K     |█████████████████████▋          | 276 kB 5.4 MB/s eta 0:00:01\r\u001b[K     |██████████████████████▍         | 286 kB 5.4 MB/s eta 0:00:01\r\u001b[K     |███████████████████████▏        | 296 kB 5.4 MB/s eta 0:00:01\r\u001b[K     |████████████████████████        | 307 kB 5.4 MB/s eta 0:00:01\r\u001b[K     |████████████████████████▉       | 317 kB 5.4 MB/s eta 0:00:01\r\u001b[K     |█████████████████████████▋      | 327 kB 5.4 MB/s eta 0:00:01\r\u001b[K     |██████████████████████████▍     | 337 kB 5.4 MB/s eta 0:00:01\r\u001b[K     |███████████████████████████▏    | 348 kB 5.4 MB/s eta 0:00:01\r\u001b[K     |████████████████████████████    | 358 kB 5.4 MB/s eta 0:00:01\r\u001b[K     |████████████████████████████▉   | 368 kB 5.4 MB/s eta 0:00:01\r\u001b[K     |█████████████████████████████▋  | 378 kB 5.4 MB/s eta 0:00:01\r\u001b[K     |██████████████████████████████▍ | 389 kB 5.4 MB/s eta 0:00:01\r\u001b[K     |███████████████████████████████▏| 399 kB 5.4 MB/s eta 0:00:01\r\u001b[K     |████████████████████████████████| 409 kB 5.4 MB/s eta 0:00:01\r\u001b[K     |████████████████████████████████| 409 kB 5.4 MB/s \n",
            "\u001b[?25hRequirement already satisfied: pandas>0.24.0 in /usr/local/lib/python3.7/dist-packages (from pyreadr) (1.1.5)\n",
            "Requirement already satisfied: python-dateutil>=2.7.3 in /usr/local/lib/python3.7/dist-packages (from pandas>0.24.0->pyreadr) (2.8.2)\n",
            "Requirement already satisfied: pytz>=2017.2 in /usr/local/lib/python3.7/dist-packages (from pandas>0.24.0->pyreadr) (2018.9)\n",
            "Requirement already satisfied: numpy>=1.15.4 in /usr/local/lib/python3.7/dist-packages (from pandas>0.24.0->pyreadr) (1.19.5)\n",
            "Requirement already satisfied: six>=1.5 in /usr/local/lib/python3.7/dist-packages (from python-dateutil>=2.7.3->pandas>0.24.0->pyreadr) (1.15.0)\n",
            "Installing collected packages: pyreadr\n",
            "Successfully installed pyreadr-0.4.2\n"
          ]
        }
      ]
    },
    {
      "cell_type": "markdown",
      "metadata": {
        "id": "cIacxPsXNKlX"
      },
      "source": [
        "# Regressão Linear Múltipla"
      ]
    },
    {
      "cell_type": "markdown",
      "metadata": {
        "id": "_jpPLC8nAwE-"
      },
      "source": [
        "### Carregando dados de Países"
      ]
    },
    {
      "cell_type": "code",
      "metadata": {
        "id": "3_gmjawt-DbT",
        "colab": {
          "base_uri": "https://localhost:8080/"
        },
        "outputId": "a7f15fda-d260-4c7b-d5b0-dda79ca5dd96"
      },
      "source": [
        "import pyreadr\n",
        "\n",
        "result = pyreadr.read_r('data/paises.RData') \n",
        "print(result.keys()) "
      ],
      "execution_count": null,
      "outputs": [
        {
          "output_type": "stream",
          "name": "stdout",
          "text": [
            "odict_keys(['paises'])\n"
          ]
        }
      ]
    },
    {
      "cell_type": "code",
      "metadata": {
        "id": "NCI-rRBn-K6Q"
      },
      "source": [
        "import pandas as pd"
      ],
      "execution_count": null,
      "outputs": []
    },
    {
      "cell_type": "code",
      "metadata": {
        "id": "7XM3telAA7XW",
        "colab": {
          "base_uri": "https://localhost:8080/",
          "height": 1000
        },
        "outputId": "f1ea1627-2dbc-406f-9c78-fc4aa0bc09a6"
      },
      "source": [
        "paises = result[\"paises\"]\n",
        "paises"
      ],
      "execution_count": 13,
      "outputs": [
        {
          "output_type": "execute_result",
          "data": {
            "text/html": [
              "<div>\n",
              "<style scoped>\n",
              "    .dataframe tbody tr th:only-of-type {\n",
              "        vertical-align: middle;\n",
              "    }\n",
              "\n",
              "    .dataframe tbody tr th {\n",
              "        vertical-align: top;\n",
              "    }\n",
              "\n",
              "    .dataframe thead th {\n",
              "        text-align: right;\n",
              "    }\n",
              "</style>\n",
              "<table border=\"1\" class=\"dataframe\">\n",
              "  <thead>\n",
              "    <tr style=\"text-align: right;\">\n",
              "      <th></th>\n",
              "      <th>pais</th>\n",
              "      <th>cpi</th>\n",
              "      <th>idade</th>\n",
              "      <th>horas</th>\n",
              "    </tr>\n",
              "    <tr>\n",
              "      <th>rownames</th>\n",
              "      <th></th>\n",
              "      <th></th>\n",
              "      <th></th>\n",
              "      <th></th>\n",
              "    </tr>\n",
              "  </thead>\n",
              "  <tbody>\n",
              "    <tr>\n",
              "      <th>1</th>\n",
              "      <td>Argentina</td>\n",
              "      <td>3.9</td>\n",
              "      <td>72</td>\n",
              "      <td>35.000000</td>\n",
              "    </tr>\n",
              "    <tr>\n",
              "      <th>2</th>\n",
              "      <td>Australia</td>\n",
              "      <td>8.7</td>\n",
              "      <td>64</td>\n",
              "      <td>32.000000</td>\n",
              "    </tr>\n",
              "    <tr>\n",
              "      <th>3</th>\n",
              "      <td>Austria</td>\n",
              "      <td>7.9</td>\n",
              "      <td>72</td>\n",
              "      <td>32.000000</td>\n",
              "    </tr>\n",
              "    <tr>\n",
              "      <th>4</th>\n",
              "      <td>Belgium</td>\n",
              "      <td>7.1</td>\n",
              "      <td>67</td>\n",
              "      <td>30.100000</td>\n",
              "    </tr>\n",
              "    <tr>\n",
              "      <th>5</th>\n",
              "      <td>Brazil</td>\n",
              "      <td>4.0</td>\n",
              "      <td>59</td>\n",
              "      <td>35.000000</td>\n",
              "    </tr>\n",
              "    <tr>\n",
              "      <th>6</th>\n",
              "      <td>Canada</td>\n",
              "      <td>8.9</td>\n",
              "      <td>61</td>\n",
              "      <td>33.400002</td>\n",
              "    </tr>\n",
              "    <tr>\n",
              "      <th>7</th>\n",
              "      <td>Chile</td>\n",
              "      <td>6.2</td>\n",
              "      <td>70</td>\n",
              "      <td>34.000000</td>\n",
              "    </tr>\n",
              "    <tr>\n",
              "      <th>8</th>\n",
              "      <td>China</td>\n",
              "      <td>2.5</td>\n",
              "      <td>49</td>\n",
              "      <td>34.000000</td>\n",
              "    </tr>\n",
              "    <tr>\n",
              "      <th>9</th>\n",
              "      <td>Colombia</td>\n",
              "      <td>4.0</td>\n",
              "      <td>79</td>\n",
              "      <td>33.000000</td>\n",
              "    </tr>\n",
              "    <tr>\n",
              "      <th>10</th>\n",
              "      <td>Cyprus</td>\n",
              "      <td>6.3</td>\n",
              "      <td>58</td>\n",
              "      <td>32.000000</td>\n",
              "    </tr>\n",
              "    <tr>\n",
              "      <th>11</th>\n",
              "      <td>CzechÂ Rep</td>\n",
              "      <td>4.6</td>\n",
              "      <td>42</td>\n",
              "      <td>38.099998</td>\n",
              "    </tr>\n",
              "    <tr>\n",
              "      <th>12</th>\n",
              "      <td>Denmark</td>\n",
              "      <td>9.3</td>\n",
              "      <td>76</td>\n",
              "      <td>30.000000</td>\n",
              "    </tr>\n",
              "    <tr>\n",
              "      <th>13</th>\n",
              "      <td>Egypt</td>\n",
              "      <td>2.1</td>\n",
              "      <td>59</td>\n",
              "      <td>32.000000</td>\n",
              "    </tr>\n",
              "    <tr>\n",
              "      <th>14</th>\n",
              "      <td>France</td>\n",
              "      <td>6.8</td>\n",
              "      <td>70</td>\n",
              "      <td>30.000000</td>\n",
              "    </tr>\n",
              "    <tr>\n",
              "      <th>15</th>\n",
              "      <td>Germany</td>\n",
              "      <td>7.9</td>\n",
              "      <td>66</td>\n",
              "      <td>27.500000</td>\n",
              "    </tr>\n",
              "    <tr>\n",
              "      <th>16</th>\n",
              "      <td>Greece</td>\n",
              "      <td>3.5</td>\n",
              "      <td>60</td>\n",
              "      <td>30.000000</td>\n",
              "    </tr>\n",
              "    <tr>\n",
              "      <th>17</th>\n",
              "      <td>Iceland</td>\n",
              "      <td>8.5</td>\n",
              "      <td>53</td>\n",
              "      <td>31.000000</td>\n",
              "    </tr>\n",
              "    <tr>\n",
              "      <th>18</th>\n",
              "      <td>India</td>\n",
              "      <td>2.3</td>\n",
              "      <td>56</td>\n",
              "      <td>29.799999</td>\n",
              "    </tr>\n",
              "    <tr>\n",
              "      <th>19</th>\n",
              "      <td>Indonesia</td>\n",
              "      <td>1.8</td>\n",
              "      <td>63</td>\n",
              "      <td>33.500000</td>\n",
              "    </tr>\n",
              "    <tr>\n",
              "      <th>20</th>\n",
              "      <td>Iraq</td>\n",
              "      <td>0.8</td>\n",
              "      <td>42</td>\n",
              "      <td>32.000000</td>\n",
              "    </tr>\n",
              "    <tr>\n",
              "      <th>21</th>\n",
              "      <td>Ireland</td>\n",
              "      <td>8.0</td>\n",
              "      <td>63</td>\n",
              "      <td>31.299999</td>\n",
              "    </tr>\n",
              "    <tr>\n",
              "      <th>22</th>\n",
              "      <td>Italy</td>\n",
              "      <td>3.9</td>\n",
              "      <td>66</td>\n",
              "      <td>35.099998</td>\n",
              "    </tr>\n",
              "    <tr>\n",
              "      <th>23</th>\n",
              "      <td>Jordan</td>\n",
              "      <td>2.0</td>\n",
              "      <td>58</td>\n",
              "      <td>32.000000</td>\n",
              "    </tr>\n",
              "    <tr>\n",
              "      <th>24</th>\n",
              "      <td>Kazakhstan</td>\n",
              "      <td>1.9</td>\n",
              "      <td>44</td>\n",
              "      <td>33.900002</td>\n",
              "    </tr>\n",
              "    <tr>\n",
              "      <th>25</th>\n",
              "      <td>Kuwait</td>\n",
              "      <td>2.8</td>\n",
              "      <td>62</td>\n",
              "      <td>32.400002</td>\n",
              "    </tr>\n",
              "    <tr>\n",
              "      <th>26</th>\n",
              "      <td>Lebanon</td>\n",
              "      <td>1.5</td>\n",
              "      <td>39</td>\n",
              "      <td>31.700001</td>\n",
              "    </tr>\n",
              "    <tr>\n",
              "      <th>27</th>\n",
              "      <td>Malaysia</td>\n",
              "      <td>3.4</td>\n",
              "      <td>73</td>\n",
              "      <td>32.799999</td>\n",
              "    </tr>\n",
              "    <tr>\n",
              "      <th>28</th>\n",
              "      <td>Netherlands</td>\n",
              "      <td>8.8</td>\n",
              "      <td>61</td>\n",
              "      <td>26.799999</td>\n",
              "    </tr>\n",
              "    <tr>\n",
              "      <th>29</th>\n",
              "      <td>NewÂ Zealand</td>\n",
              "      <td>9.3</td>\n",
              "      <td>65</td>\n",
              "      <td>31.000000</td>\n",
              "    </tr>\n",
              "    <tr>\n",
              "      <th>30</th>\n",
              "      <td>Norway</td>\n",
              "      <td>8.6</td>\n",
              "      <td>64</td>\n",
              "      <td>27.100000</td>\n",
              "    </tr>\n",
              "    <tr>\n",
              "      <th>31</th>\n",
              "      <td>Oman</td>\n",
              "      <td>3.3</td>\n",
              "      <td>58</td>\n",
              "      <td>33.200001</td>\n",
              "    </tr>\n",
              "    <tr>\n",
              "      <th>32</th>\n",
              "      <td>Philippines</td>\n",
              "      <td>1.4</td>\n",
              "      <td>75</td>\n",
              "      <td>34.700001</td>\n",
              "    </tr>\n",
              "    <tr>\n",
              "      <th>33</th>\n",
              "      <td>Poland</td>\n",
              "      <td>5.3</td>\n",
              "      <td>50</td>\n",
              "      <td>38.000000</td>\n",
              "    </tr>\n",
              "    <tr>\n",
              "      <th>34</th>\n",
              "      <td>Portugal</td>\n",
              "      <td>6.0</td>\n",
              "      <td>69</td>\n",
              "      <td>33.200001</td>\n",
              "    </tr>\n",
              "    <tr>\n",
              "      <th>35</th>\n",
              "      <td>Romania</td>\n",
              "      <td>3.7</td>\n",
              "      <td>67</td>\n",
              "      <td>34.500000</td>\n",
              "    </tr>\n",
              "    <tr>\n",
              "      <th>36</th>\n",
              "      <td>Russia</td>\n",
              "      <td>2.1</td>\n",
              "      <td>46</td>\n",
              "      <td>34.900002</td>\n",
              "    </tr>\n",
              "    <tr>\n",
              "      <th>37</th>\n",
              "      <td>SaudiÂ Arabia</td>\n",
              "      <td>3.7</td>\n",
              "      <td>58</td>\n",
              "      <td>33.799999</td>\n",
              "    </tr>\n",
              "    <tr>\n",
              "      <th>38</th>\n",
              "      <td>Serbia</td>\n",
              "      <td>3.5</td>\n",
              "      <td>61</td>\n",
              "      <td>34.500000</td>\n",
              "    </tr>\n",
              "    <tr>\n",
              "      <th>39</th>\n",
              "      <td>SouthÂ Africa</td>\n",
              "      <td>2.8</td>\n",
              "      <td>64</td>\n",
              "      <td>37.799999</td>\n",
              "    </tr>\n",
              "    <tr>\n",
              "      <th>40</th>\n",
              "      <td>Spain</td>\n",
              "      <td>6.1</td>\n",
              "      <td>62</td>\n",
              "      <td>31.799999</td>\n",
              "    </tr>\n",
              "    <tr>\n",
              "      <th>41</th>\n",
              "      <td>Sweden</td>\n",
              "      <td>9.2</td>\n",
              "      <td>70</td>\n",
              "      <td>30.000000</td>\n",
              "    </tr>\n",
              "    <tr>\n",
              "      <th>42</th>\n",
              "      <td>Switzerland</td>\n",
              "      <td>8.7</td>\n",
              "      <td>65</td>\n",
              "      <td>32.000000</td>\n",
              "    </tr>\n",
              "    <tr>\n",
              "      <th>43</th>\n",
              "      <td>Syria</td>\n",
              "      <td>1.0</td>\n",
              "      <td>34</td>\n",
              "      <td>32.000000</td>\n",
              "    </tr>\n",
              "    <tr>\n",
              "      <th>44</th>\n",
              "      <td>Taiwan</td>\n",
              "      <td>3.8</td>\n",
              "      <td>63</td>\n",
              "      <td>34.099998</td>\n",
              "    </tr>\n",
              "    <tr>\n",
              "      <th>45</th>\n",
              "      <td>Thailand</td>\n",
              "      <td>2.5</td>\n",
              "      <td>68</td>\n",
              "      <td>31.200001</td>\n",
              "    </tr>\n",
              "    <tr>\n",
              "      <th>46</th>\n",
              "      <td>Turkey</td>\n",
              "      <td>4.4</td>\n",
              "      <td>61</td>\n",
              "      <td>34.500000</td>\n",
              "    </tr>\n",
              "    <tr>\n",
              "      <th>47</th>\n",
              "      <td>Ukraine</td>\n",
              "      <td>2.4</td>\n",
              "      <td>44</td>\n",
              "      <td>32.799999</td>\n",
              "    </tr>\n",
              "    <tr>\n",
              "      <th>48</th>\n",
              "      <td>UnitedÂ Kingdom</td>\n",
              "      <td>7.6</td>\n",
              "      <td>60</td>\n",
              "      <td>32.099998</td>\n",
              "    </tr>\n",
              "    <tr>\n",
              "      <th>49</th>\n",
              "      <td>UnitedÂ States</td>\n",
              "      <td>7.1</td>\n",
              "      <td>65</td>\n",
              "      <td>34.500000</td>\n",
              "    </tr>\n",
              "    <tr>\n",
              "      <th>50</th>\n",
              "      <td>Venezuela</td>\n",
              "      <td>2.8</td>\n",
              "      <td>51</td>\n",
              "      <td>34.900002</td>\n",
              "    </tr>\n",
              "  </tbody>\n",
              "</table>\n",
              "</div>"
            ],
            "text/plain": [
              "                     pais  cpi  idade      horas\n",
              "rownames                                        \n",
              "1               Argentina  3.9     72  35.000000\n",
              "2               Australia  8.7     64  32.000000\n",
              "3                 Austria  7.9     72  32.000000\n",
              "4                 Belgium  7.1     67  30.100000\n",
              "5                  Brazil  4.0     59  35.000000\n",
              "6                  Canada  8.9     61  33.400002\n",
              "7                   Chile  6.2     70  34.000000\n",
              "8                   China  2.5     49  34.000000\n",
              "9                Colombia  4.0     79  33.000000\n",
              "10                 Cyprus  6.3     58  32.000000\n",
              "11             CzechÂ Rep  4.6     42  38.099998\n",
              "12                Denmark  9.3     76  30.000000\n",
              "13                  Egypt  2.1     59  32.000000\n",
              "14                 France  6.8     70  30.000000\n",
              "15                Germany  7.9     66  27.500000\n",
              "16                 Greece  3.5     60  30.000000\n",
              "17                Iceland  8.5     53  31.000000\n",
              "18                  India  2.3     56  29.799999\n",
              "19              Indonesia  1.8     63  33.500000\n",
              "20                   Iraq  0.8     42  32.000000\n",
              "21                Ireland  8.0     63  31.299999\n",
              "22                  Italy  3.9     66  35.099998\n",
              "23                 Jordan  2.0     58  32.000000\n",
              "24             Kazakhstan  1.9     44  33.900002\n",
              "25                 Kuwait  2.8     62  32.400002\n",
              "26                Lebanon  1.5     39  31.700001\n",
              "27               Malaysia  3.4     73  32.799999\n",
              "28            Netherlands  8.8     61  26.799999\n",
              "29           NewÂ Zealand  9.3     65  31.000000\n",
              "30                 Norway  8.6     64  27.100000\n",
              "31                   Oman  3.3     58  33.200001\n",
              "32            Philippines  1.4     75  34.700001\n",
              "33                 Poland  5.3     50  38.000000\n",
              "34               Portugal  6.0     69  33.200001\n",
              "35                Romania  3.7     67  34.500000\n",
              "36                 Russia  2.1     46  34.900002\n",
              "37          SaudiÂ Arabia  3.7     58  33.799999\n",
              "38                 Serbia  3.5     61  34.500000\n",
              "39          SouthÂ Africa  2.8     64  37.799999\n",
              "40                  Spain  6.1     62  31.799999\n",
              "41                 Sweden  9.2     70  30.000000\n",
              "42            Switzerland  8.7     65  32.000000\n",
              "43                  Syria  1.0     34  32.000000\n",
              "44                 Taiwan  3.8     63  34.099998\n",
              "45               Thailand  2.5     68  31.200001\n",
              "46                 Turkey  4.4     61  34.500000\n",
              "47                Ukraine  2.4     44  32.799999\n",
              "48        UnitedÂ Kingdom  7.6     60  32.099998\n",
              "49         UnitedÂ States  7.1     65  34.500000\n",
              "50              Venezuela  2.8     51  34.900002"
            ]
          },
          "metadata": {},
          "execution_count": 13
        }
      ]
    },
    {
      "cell_type": "markdown",
      "metadata": {
        "id": "y3lpMbTcNYK6"
      },
      "source": [
        "### Fazendo análise de correlação de Pearson\n",
        "\n",
        "##### Algumas fontes públicas na Internet:\n",
        "https://medium.com/omixdata/estat%C3%ADstica-an%C3%A1lise-de-correla%C3%A7%C3%A3o-usando-python-e-r-d68611511b5a\n"
      ]
    },
    {
      "cell_type": "code",
      "metadata": {
        "id": "CYuogDVyNX2P"
      },
      "source": [
        "import seaborn as sn"
      ],
      "execution_count": 14,
      "outputs": []
    },
    {
      "cell_type": "code",
      "metadata": {
        "id": "lQ3IAjlWMqJd"
      },
      "source": [
        "correlation = paises.corr()"
      ],
      "execution_count": 17,
      "outputs": []
    },
    {
      "cell_type": "code",
      "metadata": {
        "id": "8bjAKpf0N2Hu",
        "outputId": "16f83835-0d22-4eb9-8f50-b27ad675bb33",
        "colab": {
          "base_uri": "https://localhost:8080/",
          "height": 286
        }
      },
      "source": [
        "plot = sn.heatmap(correlation, annot = True, fmt=\".1f\", linewidths=.6)\n",
        "plot"
      ],
      "execution_count": 18,
      "outputs": [
        {
          "output_type": "execute_result",
          "data": {
            "text/plain": [
              "<matplotlib.axes._subplots.AxesSubplot at 0x7fb54ec91f50>"
            ]
          },
          "metadata": {},
          "execution_count": 18
        },
        {
          "output_type": "display_data",
          "data": {
            "image/png": "[encoded data removed]",
            "text/plain": [
              "<Figure size 432x288 with 2 Axes>"
            ]
          },
          "metadata": {
            "needs_background": "light"
          }
        }
      ]
    },
    {
      "cell_type": "markdown",
      "metadata": {
        "id": "q24m_Y6EOY2m"
      },
      "source": [
        "cpi possui correlação positiva (0.4) com idade, e correlação negativa (-0.4) com horas.\n",
        "idade possui correlação negativa (-0.2) com horas"
      ]
    },
    {
      "cell_type": "markdown",
      "metadata": {
        "id": "yMEZ9YC_UBuv"
      },
      "source": [
        "#### codificando a regressão linear múltipla\n",
        "\n",
        "https://www.computersciencemaster.com.br/o-que-e-regressao-linear-multipla-e-como-usar/\n",
        "\n",
        "https://nathaliatito.medium.com/scikit-learn-ou-statsmodels-avaliando-meu-modelo-de-regress%C3%A3o-f4c04b361fa7"
      ]
    },
    {
      "cell_type": "code",
      "metadata": {
        "id": "TnvLoezHO_6e"
      },
      "source": [
        "from sklearn import linear_model\n",
        "import numpy as np\n",
        "from sklearn.metrics import r2_score"
      ],
      "execution_count": 38,
      "outputs": []
    },
    {
      "cell_type": "code",
      "metadata": {
        "id": "abTKF7ChRq4x"
      },
      "source": [
        "X = paises[['idade','horas']]\n",
        "y = paises['cpi']"
      ],
      "execution_count": 22,
      "outputs": []
    },
    {
      "cell_type": "code",
      "metadata": {
        "id": "uXMcR2EWRC4J"
      },
      "source": [
        "regr_multi = linear_model.LinearRegression()\n",
        "regr_multi.fit(X, y)\n",
        "\n",
        "paises['cpi-predict'] = regr_multi.predict(X)"
      ],
      "execution_count": 24,
      "outputs": []
    },
    {
      "cell_type": "code",
      "metadata": {
        "id": "1_wgaXCfSoeJ",
        "outputId": "ae0d5fbf-5e73-412d-e0f9-983963aa9e62",
        "colab": {
          "base_uri": "https://localhost:8080/"
        }
      },
      "source": [
        "# imprimindo os coeficientes beta e o interceptor alpha\n",
        "list(zip(X.columns, np.around(regr_multi.coef_, 4)))"
      ],
      "execution_count": 35,
      "outputs": [
        {
          "output_type": "execute_result",
          "data": {
            "text/plain": [
              "[('idade', 0.0997), ('horas', -0.4013)]"
            ]
          },
          "metadata": {},
          "execution_count": 35
        }
      ]
    },
    {
      "cell_type": "code",
      "metadata": {
        "id": "q98CPXC6WIS7",
        "outputId": "be53191d-d8b1-4e97-d939-37a3d52c8591",
        "colab": {
          "base_uri": "https://localhost:8080/"
        }
      },
      "source": [
        "print('intercept alpha: ', np.round(regr_multi.intercept_, 4))"
      ],
      "execution_count": 36,
      "outputs": [
        {
          "output_type": "stream",
          "name": "stdout",
          "text": [
            "intercept alpha:  11.9719\n"
          ]
        }
      ]
    },
    {
      "cell_type": "code",
      "metadata": {
        "id": "uukS9s78WcoT",
        "outputId": "8874c10e-ac77-4e21-dd5a-63ee0cf47b71",
        "colab": {
          "base_uri": "https://localhost:8080/"
        }
      },
      "source": [
        "# calculando residuo e o R2 (coeficiente de determinação)\n",
        "\n",
        "residuo = paises['cpi'] - paises['cpi-predict']\n",
        "\n",
        "r2 = r2_score(paises['cpi'], paises['cpi-predict'])\n",
        "\n",
        "print(r2)"
      ],
      "execution_count": 40,
      "outputs": [
        {
          "output_type": "stream",
          "name": "stdout",
          "text": [
            "0.32387117836812684\n"
          ]
        }
      ]
    }
  ]
}