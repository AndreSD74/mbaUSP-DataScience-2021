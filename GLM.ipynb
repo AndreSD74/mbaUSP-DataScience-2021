{
  "nbformat": 4,
  "nbformat_minor": 0,
  "metadata": {
    "colab": {
      "name": "GLM.ipynb",
      "provenance": [],
      "collapsed_sections": [],
      "authorship_tag": "ABX9TyM5QYeTZMhnmtsOZXgj0qhY",
      "include_colab_link": true
    },
    "kernelspec": {
      "name": "python3",
      "display_name": "Python 3"
    },
    "language_info": {
      "name": "python"
    }
  },
  "cells": [
    {
      "cell_type": "markdown",
      "metadata": {
        "id": "view-in-github",
        "colab_type": "text"
      },
      "source": [
        "<a href=\"https://colab.research.google.com/github/AndreSD74/mbaUSP-DataScience-2021/blob/main/GLM.ipynb\" target=\"_parent\"><img src=\"https://colab.research.google.com/assets/colab-badge.svg\" alt=\"Open In Colab\"/></a>"
      ]
    },
    {
      "cell_type": "markdown",
      "metadata": {
        "id": "KcWmlW5J1Peb"
      },
      "source": [
        "Obtendo o código do GitHub"
      ]
    },
    {
      "cell_type": "code",
      "metadata": {
        "id": "rYehWy3MtU9z",
        "colab": {
          "base_uri": "https://localhost:8080/"
        },
        "outputId": "6d026b41-6082-4aa2-e7ac-628ab23b9ba4"
      },
      "source": [
        "!git clone https://github.com/AndreSD74/mbaUSP-DataScience-2021.git\n",
        "\n"
      ],
      "execution_count": 12,
      "outputs": [
        {
          "output_type": "stream",
          "name": "stdout",
          "text": [
            "Cloning into 'mbaUSP-DataScience-2021'...\n",
            "remote: Enumerating objects: 23, done.\u001b[K\n",
            "remote: Counting objects: 100% (23/23), done.\u001b[K\n",
            "remote: Compressing objects: 100% (22/22), done.\u001b[K\n",
            "remote: Total 23 (delta 2), reused 11 (delta 0), pack-reused 0\u001b[K\n",
            "Unpacking objects: 100% (23/23), done.\n"
          ]
        }
      ]
    },
    {
      "cell_type": "code",
      "metadata": {
        "colab": {
          "base_uri": "https://localhost:8080/"
        },
        "id": "xNF5Wo3U1ZL1",
        "outputId": "f06037f2-9d18-4a35-88a3-862ed4943968"
      },
      "source": [
        "!cd mbaUSP-DataScience-2021; ls; cat README.md"
      ],
      "execution_count": 18,
      "outputs": [
        {
          "output_type": "stream",
          "name": "stdout",
          "text": [
            "data  GLM.ipynb  README.md\n",
            "# mbaUSP-DataScience-2021\n",
            "Códigos em Python para estudo de DataScience do curso de MBA da USP de 2021\n"
          ]
        }
      ]
    }
  ]
}